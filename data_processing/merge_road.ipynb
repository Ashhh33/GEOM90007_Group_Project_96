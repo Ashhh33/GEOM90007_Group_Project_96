{
 "cells": [
  {
   "cell_type": "code",
   "execution_count": 19,
   "metadata": {},
   "outputs": [],
   "source": [
    "import os\n",
    "import pandas as pd\n",
    "\n",
    "dir_name = '/Users/tangxuanjin/Desktop/2022-s2/GEOM90007-IV/Assignment/Group/Bicycle_Volume_Speed_2022'\n",
    "os.chdir(dir_name) # change directory from working dir to dir with files\n"
   ]
  },
  {
   "cell_type": "code",
   "execution_count": 12,
   "metadata": {},
   "outputs": [],
   "source": [
    "road_id = {}\n",
    "for item in os.listdir(dir_name): # loop through items in dir\n",
    "    folder_name = dir_name + '/' + item # get full path of files\n",
    "    if len(item.split(\"-\")) == 3:\n",
    "        os.chdir(folder_name)\n",
    "    else:\n",
    "        continue\n",
    "\n",
    "    for itm in os.listdir(folder_name):\n",
    "        rid = itm.split('_')[1:4]\n",
    "        rid = '_'.join(rid)\n",
    "\n",
    "        itm_full_path = folder_name + '/' + itm\n",
    "        if rid not in road_id.keys():\n",
    "            road_id[rid] = [itm_full_path]\n",
    "        else:\n",
    "            road_id[rid].append(itm_full_path)"
   ]
  },
  {
   "cell_type": "code",
   "execution_count": 15,
   "metadata": {},
   "outputs": [],
   "source": [
    "DROP_IDX = [0, 1, 6, 7, 12, 13, 15]"
   ]
  },
  {
   "cell_type": "code",
   "execution_count": 26,
   "metadata": {},
   "outputs": [],
   "source": [
    "for k, v in road_id.items():\n",
    "    df_merge = []\n",
    "    for path in v:\n",
    "        df = pd.read_csv(path)\n",
    "        df_drop = df.drop(df.columns[DROP_IDX], axis=1)\n",
    "        df_merge.append(df_drop)\n",
    "        \n",
    "    df_merge = pd.concat(df_merge, ignore_index=True, sort=False)\n",
    "    file_name = '/Users/tangxuanjin/Desktop/2022-s2/GEOM90007-IV/Assignment/Group/processed_2022' + '/' + k + '.csv'\n",
    "    df_merge.to_csv(file_name, index=False)"
   ]
  }
 ],
 "metadata": {
  "kernelspec": {
   "display_name": "Python 3.8.3",
   "language": "python",
   "name": "python3"
  },
  "language_info": {
   "codemirror_mode": {
    "name": "ipython",
    "version": 3
   },
   "file_extension": ".py",
   "mimetype": "text/x-python",
   "name": "python",
   "nbconvert_exporter": "python",
   "pygments_lexer": "ipython3",
   "version": "3.8.3"
  },
  "orig_nbformat": 4,
  "vscode": {
   "interpreter": {
    "hash": "40d3a090f54c6569ab1632332b64b2c03c39dcf918b08424e98f38b5ae0af88f"
   }
  }
 },
 "nbformat": 4,
 "nbformat_minor": 2
}
