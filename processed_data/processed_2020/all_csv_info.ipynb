{
 "cells": [
  {
   "cell_type": "code",
   "execution_count": 1,
   "metadata": {},
   "outputs": [],
   "source": [
    "import numpy as np\n",
    "import pandas as pd\n",
    "import os\n",
    "import glob"
   ]
  },
  {
   "cell_type": "code",
   "execution_count": 2,
   "metadata": {},
   "outputs": [],
   "source": [
    "# read all csv files in the current directory\n",
    "df = pd.concat(map(pd.read_csv, glob.glob(os.path.join('', \"*.csv\"))))"
   ]
  },
  {
   "cell_type": "code",
   "execution_count": 3,
   "metadata": {},
   "outputs": [
    {
     "name": "stdout",
     "output_type": "stream",
     "text": [
      "<class 'pandas.core.frame.DataFrame'>\n",
      "Int64Index: 22485932 entries, 0 to 312718\n",
      "Data columns (total 10 columns):\n",
      " #   Column         Dtype  \n",
      "---  ------         -----  \n",
      " 0   SITE_XN_ROUTE  int64  \n",
      " 1   LOC_LEG        int64  \n",
      " 2   DATE           object \n",
      " 3   TIME           object \n",
      " 4   SPEED          float64\n",
      " 5   WHEELBASE      float64\n",
      " 6   HEADWAY        float64\n",
      " 7   GAP            float64\n",
      " 8   RHO            float64\n",
      " 9   DIRECTION      object \n",
      "dtypes: float64(5), int64(2), object(3)\n",
      "memory usage: 1.8+ GB\n"
     ]
    }
   ],
   "source": [
    "df.info()"
   ]
  },
  {
   "cell_type": "code",
   "execution_count": 4,
   "metadata": {},
   "outputs": [],
   "source": [
    "# export df as csv\n",
    "# df.to_csv('2020.csv', index=False)"
   ]
  },
  {
   "cell_type": "code",
   "execution_count": 4,
   "metadata": {},
   "outputs": [
    {
     "data": {
      "text/html": [
       "<div>\n",
       "<style scoped>\n",
       "    .dataframe tbody tr th:only-of-type {\n",
       "        vertical-align: middle;\n",
       "    }\n",
       "\n",
       "    .dataframe tbody tr th {\n",
       "        vertical-align: top;\n",
       "    }\n",
       "\n",
       "    .dataframe thead th {\n",
       "        text-align: right;\n",
       "    }\n",
       "</style>\n",
       "<table border=\"1\" class=\"dataframe\">\n",
       "  <thead>\n",
       "    <tr style=\"text-align: right;\">\n",
       "      <th></th>\n",
       "      <th>SITE_XN_ROUTE</th>\n",
       "      <th>LOC_LEG</th>\n",
       "      <th>DATE</th>\n",
       "      <th>TIME</th>\n",
       "      <th>SPEED</th>\n",
       "      <th>WHEELBASE</th>\n",
       "      <th>HEADWAY</th>\n",
       "      <th>GAP</th>\n",
       "      <th>RHO</th>\n",
       "      <th>DIRECTION</th>\n",
       "    </tr>\n",
       "  </thead>\n",
       "  <tbody>\n",
       "    <tr>\n",
       "      <th>0</th>\n",
       "      <td>6592</td>\n",
       "      <td>59452</td>\n",
       "      <td>02/03/2020</td>\n",
       "      <td>00:10:50</td>\n",
       "      <td>23.7</td>\n",
       "      <td>1.0</td>\n",
       "      <td>0.0</td>\n",
       "      <td>0.1</td>\n",
       "      <td>1.0</td>\n",
       "      <td>N</td>\n",
       "    </tr>\n",
       "    <tr>\n",
       "      <th>1</th>\n",
       "      <td>6592</td>\n",
       "      <td>59453</td>\n",
       "      <td>02/03/2020</td>\n",
       "      <td>02:51:10</td>\n",
       "      <td>23.7</td>\n",
       "      <td>1.0</td>\n",
       "      <td>9620.1</td>\n",
       "      <td>9620.1</td>\n",
       "      <td>1.0</td>\n",
       "      <td>S</td>\n",
       "    </tr>\n",
       "    <tr>\n",
       "      <th>2</th>\n",
       "      <td>6592</td>\n",
       "      <td>59452</td>\n",
       "      <td>02/03/2020</td>\n",
       "      <td>03:09:32</td>\n",
       "      <td>22.4</td>\n",
       "      <td>1.1</td>\n",
       "      <td>10722.7</td>\n",
       "      <td>10722.5</td>\n",
       "      <td>1.0</td>\n",
       "      <td>N</td>\n",
       "    </tr>\n",
       "    <tr>\n",
       "      <th>3</th>\n",
       "      <td>6592</td>\n",
       "      <td>59453</td>\n",
       "      <td>02/03/2020</td>\n",
       "      <td>03:31:50</td>\n",
       "      <td>24.6</td>\n",
       "      <td>1.1</td>\n",
       "      <td>2440.4</td>\n",
       "      <td>2440.3</td>\n",
       "      <td>1.0</td>\n",
       "      <td>S</td>\n",
       "    </tr>\n",
       "    <tr>\n",
       "      <th>4</th>\n",
       "      <td>6592</td>\n",
       "      <td>59453</td>\n",
       "      <td>02/03/2020</td>\n",
       "      <td>03:58:08</td>\n",
       "      <td>26.0</td>\n",
       "      <td>1.1</td>\n",
       "      <td>1577.4</td>\n",
       "      <td>1577.3</td>\n",
       "      <td>1.0</td>\n",
       "      <td>S</td>\n",
       "    </tr>\n",
       "  </tbody>\n",
       "</table>\n",
       "</div>"
      ],
      "text/plain": [
       "   SITE_XN_ROUTE  LOC_LEG        DATE      TIME  SPEED  WHEELBASE  HEADWAY  \\\n",
       "0           6592    59452  02/03/2020  00:10:50   23.7        1.0      0.0   \n",
       "1           6592    59453  02/03/2020  02:51:10   23.7        1.0   9620.1   \n",
       "2           6592    59452  02/03/2020  03:09:32   22.4        1.1  10722.7   \n",
       "3           6592    59453  02/03/2020  03:31:50   24.6        1.1   2440.4   \n",
       "4           6592    59453  02/03/2020  03:58:08   26.0        1.1   1577.4   \n",
       "\n",
       "       GAP  RHO DIRECTION  \n",
       "0      0.1  1.0         N  \n",
       "1   9620.1  1.0         S  \n",
       "2  10722.5  1.0         N  \n",
       "3   2440.3  1.0         S  \n",
       "4   1577.3  1.0         S  "
      ]
     },
     "execution_count": 4,
     "metadata": {},
     "output_type": "execute_result"
    }
   ],
   "source": [
    "df.head()"
   ]
  },
  {
   "cell_type": "code",
   "execution_count": 5,
   "metadata": {},
   "outputs": [
    {
     "data": {
      "text/plain": [
       "'02/03/2020'"
      ]
     },
     "execution_count": 5,
     "metadata": {},
     "output_type": "execute_result"
    }
   ],
   "source": [
    "df.head()['DATE'][0]"
   ]
  },
  {
   "cell_type": "code",
   "execution_count": 6,
   "metadata": {},
   "outputs": [
    {
     "data": {
      "text/plain": [
       "str"
      ]
     },
     "execution_count": 6,
     "metadata": {},
     "output_type": "execute_result"
    }
   ],
   "source": [
    "type(df.head()['DATE'][0])"
   ]
  },
  {
   "cell_type": "code",
   "execution_count": 7,
   "metadata": {},
   "outputs": [
    {
     "data": {
      "text/plain": [
       "'Monday'"
      ]
     },
     "execution_count": 7,
     "metadata": {},
     "output_type": "execute_result"
    }
   ],
   "source": [
    "''' \n",
    "提取csv的DATE列，转换为星期\n",
    "\n",
    "第一种方法\n",
    "'''\n",
    "\n",
    "pd.Timestamp(day=int(df.head()['DATE'][0].split('/')[0]), month=int(df.head()['DATE'][0].split('/')[1]), year=int(df.head()['DATE'][0].split('/')[2])).day_name()"
   ]
  },
  {
   "cell_type": "code",
   "execution_count": 8,
   "metadata": {},
   "outputs": [
    {
     "data": {
      "text/plain": [
       "0"
      ]
     },
     "execution_count": 8,
     "metadata": {},
     "output_type": "execute_result"
    }
   ],
   "source": [
    "'''\n",
    "第二种方法\n",
    "'''\n",
    "\n",
    "import calendar\n",
    "\n",
    "calendar.weekday(int(df.head()['DATE'][0].split('/')[2]), int(df.head()['DATE'][0].split('/')[1]), int(df.head()['DATE'][0].split('/')[0]))"
   ]
  },
  {
   "cell_type": "code",
   "execution_count": 9,
   "metadata": {},
   "outputs": [],
   "source": [
    "# 提取df中所有日期，使用pd.Timestamp计算出星期\n",
    "df['WEEKDAY'] = df['DATE'].apply(lambda x: pd.Timestamp(day=int(x.split('/')[0]), month=int(x.split('/')[1]), year=int(x.split('/')[2])).day_name())\n"
   ]
  },
  {
   "cell_type": "code",
   "execution_count": 10,
   "metadata": {},
   "outputs": [
    {
     "data": {
      "text/html": [
       "<div>\n",
       "<style scoped>\n",
       "    .dataframe tbody tr th:only-of-type {\n",
       "        vertical-align: middle;\n",
       "    }\n",
       "\n",
       "    .dataframe tbody tr th {\n",
       "        vertical-align: top;\n",
       "    }\n",
       "\n",
       "    .dataframe thead th {\n",
       "        text-align: right;\n",
       "    }\n",
       "</style>\n",
       "<table border=\"1\" class=\"dataframe\">\n",
       "  <thead>\n",
       "    <tr style=\"text-align: right;\">\n",
       "      <th></th>\n",
       "      <th>SITE_XN_ROUTE</th>\n",
       "      <th>LOC_LEG</th>\n",
       "      <th>DATE</th>\n",
       "      <th>TIME</th>\n",
       "      <th>SPEED</th>\n",
       "      <th>WHEELBASE</th>\n",
       "      <th>HEADWAY</th>\n",
       "      <th>GAP</th>\n",
       "      <th>RHO</th>\n",
       "      <th>DIRECTION</th>\n",
       "      <th>WEEKDAY</th>\n",
       "    </tr>\n",
       "  </thead>\n",
       "  <tbody>\n",
       "    <tr>\n",
       "      <th>0</th>\n",
       "      <td>6592</td>\n",
       "      <td>59452</td>\n",
       "      <td>02/03/2020</td>\n",
       "      <td>00:10:50</td>\n",
       "      <td>23.7</td>\n",
       "      <td>1.0</td>\n",
       "      <td>0.0</td>\n",
       "      <td>0.1</td>\n",
       "      <td>1.0</td>\n",
       "      <td>N</td>\n",
       "      <td>Monday</td>\n",
       "    </tr>\n",
       "    <tr>\n",
       "      <th>1</th>\n",
       "      <td>6592</td>\n",
       "      <td>59453</td>\n",
       "      <td>02/03/2020</td>\n",
       "      <td>02:51:10</td>\n",
       "      <td>23.7</td>\n",
       "      <td>1.0</td>\n",
       "      <td>9620.1</td>\n",
       "      <td>9620.1</td>\n",
       "      <td>1.0</td>\n",
       "      <td>S</td>\n",
       "      <td>Monday</td>\n",
       "    </tr>\n",
       "    <tr>\n",
       "      <th>2</th>\n",
       "      <td>6592</td>\n",
       "      <td>59452</td>\n",
       "      <td>02/03/2020</td>\n",
       "      <td>03:09:32</td>\n",
       "      <td>22.4</td>\n",
       "      <td>1.1</td>\n",
       "      <td>10722.7</td>\n",
       "      <td>10722.5</td>\n",
       "      <td>1.0</td>\n",
       "      <td>N</td>\n",
       "      <td>Monday</td>\n",
       "    </tr>\n",
       "    <tr>\n",
       "      <th>3</th>\n",
       "      <td>6592</td>\n",
       "      <td>59453</td>\n",
       "      <td>02/03/2020</td>\n",
       "      <td>03:31:50</td>\n",
       "      <td>24.6</td>\n",
       "      <td>1.1</td>\n",
       "      <td>2440.4</td>\n",
       "      <td>2440.3</td>\n",
       "      <td>1.0</td>\n",
       "      <td>S</td>\n",
       "      <td>Monday</td>\n",
       "    </tr>\n",
       "    <tr>\n",
       "      <th>4</th>\n",
       "      <td>6592</td>\n",
       "      <td>59453</td>\n",
       "      <td>02/03/2020</td>\n",
       "      <td>03:58:08</td>\n",
       "      <td>26.0</td>\n",
       "      <td>1.1</td>\n",
       "      <td>1577.4</td>\n",
       "      <td>1577.3</td>\n",
       "      <td>1.0</td>\n",
       "      <td>S</td>\n",
       "      <td>Monday</td>\n",
       "    </tr>\n",
       "  </tbody>\n",
       "</table>\n",
       "</div>"
      ],
      "text/plain": [
       "   SITE_XN_ROUTE  LOC_LEG        DATE      TIME  SPEED  WHEELBASE  HEADWAY  \\\n",
       "0           6592    59452  02/03/2020  00:10:50   23.7        1.0      0.0   \n",
       "1           6592    59453  02/03/2020  02:51:10   23.7        1.0   9620.1   \n",
       "2           6592    59452  02/03/2020  03:09:32   22.4        1.1  10722.7   \n",
       "3           6592    59453  02/03/2020  03:31:50   24.6        1.1   2440.4   \n",
       "4           6592    59453  02/03/2020  03:58:08   26.0        1.1   1577.4   \n",
       "\n",
       "       GAP  RHO DIRECTION WEEKDAY  \n",
       "0      0.1  1.0         N  Monday  \n",
       "1   9620.1  1.0         S  Monday  \n",
       "2  10722.5  1.0         N  Monday  \n",
       "3   2440.3  1.0         S  Monday  \n",
       "4   1577.3  1.0         S  Monday  "
      ]
     },
     "execution_count": 10,
     "metadata": {},
     "output_type": "execute_result"
    }
   ],
   "source": [
    "df.head()"
   ]
  },
  {
   "cell_type": "code",
   "execution_count": 11,
   "metadata": {},
   "outputs": [
    {
     "data": {
      "text/html": [
       "<div>\n",
       "<style scoped>\n",
       "    .dataframe tbody tr th:only-of-type {\n",
       "        vertical-align: middle;\n",
       "    }\n",
       "\n",
       "    .dataframe tbody tr th {\n",
       "        vertical-align: top;\n",
       "    }\n",
       "\n",
       "    .dataframe thead th {\n",
       "        text-align: right;\n",
       "    }\n",
       "</style>\n",
       "<table border=\"1\" class=\"dataframe\">\n",
       "  <thead>\n",
       "    <tr style=\"text-align: right;\">\n",
       "      <th></th>\n",
       "      <th>SITE_XN_ROUTE</th>\n",
       "      <th>LOC_LEG</th>\n",
       "      <th>DATE</th>\n",
       "      <th>TIME</th>\n",
       "      <th>SPEED</th>\n",
       "      <th>WHEELBASE</th>\n",
       "      <th>HEADWAY</th>\n",
       "      <th>GAP</th>\n",
       "      <th>RHO</th>\n",
       "      <th>DIRECTION</th>\n",
       "      <th>WEEKDAY</th>\n",
       "    </tr>\n",
       "  </thead>\n",
       "  <tbody>\n",
       "    <tr>\n",
       "      <th>312714</th>\n",
       "      <td>8176</td>\n",
       "      <td>59446</td>\n",
       "      <td>02/08/2020</td>\n",
       "      <td>22:00:59</td>\n",
       "      <td>25.6</td>\n",
       "      <td>1.1</td>\n",
       "      <td>1836.1</td>\n",
       "      <td>1835.9</td>\n",
       "      <td>1.0</td>\n",
       "      <td>E</td>\n",
       "      <td>Sunday</td>\n",
       "    </tr>\n",
       "    <tr>\n",
       "      <th>312715</th>\n",
       "      <td>8176</td>\n",
       "      <td>59446</td>\n",
       "      <td>02/08/2020</td>\n",
       "      <td>22:15:34</td>\n",
       "      <td>31.1</td>\n",
       "      <td>1.1</td>\n",
       "      <td>876.0</td>\n",
       "      <td>875.8</td>\n",
       "      <td>1.0</td>\n",
       "      <td>E</td>\n",
       "      <td>Sunday</td>\n",
       "    </tr>\n",
       "    <tr>\n",
       "      <th>312716</th>\n",
       "      <td>8176</td>\n",
       "      <td>59446</td>\n",
       "      <td>02/08/2020</td>\n",
       "      <td>22:28:40</td>\n",
       "      <td>27.1</td>\n",
       "      <td>1.1</td>\n",
       "      <td>785.3</td>\n",
       "      <td>785.2</td>\n",
       "      <td>1.0</td>\n",
       "      <td>E</td>\n",
       "      <td>Sunday</td>\n",
       "    </tr>\n",
       "    <tr>\n",
       "      <th>312717</th>\n",
       "      <td>8176</td>\n",
       "      <td>59446</td>\n",
       "      <td>02/08/2020</td>\n",
       "      <td>22:44:09</td>\n",
       "      <td>33.0</td>\n",
       "      <td>1.0</td>\n",
       "      <td>928.7</td>\n",
       "      <td>928.6</td>\n",
       "      <td>1.0</td>\n",
       "      <td>E</td>\n",
       "      <td>Sunday</td>\n",
       "    </tr>\n",
       "    <tr>\n",
       "      <th>312718</th>\n",
       "      <td>8176</td>\n",
       "      <td>59446</td>\n",
       "      <td>02/08/2020</td>\n",
       "      <td>23:14:18</td>\n",
       "      <td>20.8</td>\n",
       "      <td>1.1</td>\n",
       "      <td>1809.8</td>\n",
       "      <td>1809.7</td>\n",
       "      <td>1.0</td>\n",
       "      <td>E</td>\n",
       "      <td>Sunday</td>\n",
       "    </tr>\n",
       "  </tbody>\n",
       "</table>\n",
       "</div>"
      ],
      "text/plain": [
       "        SITE_XN_ROUTE  LOC_LEG        DATE      TIME  SPEED  WHEELBASE  \\\n",
       "312714           8176    59446  02/08/2020  22:00:59   25.6        1.1   \n",
       "312715           8176    59446  02/08/2020  22:15:34   31.1        1.1   \n",
       "312716           8176    59446  02/08/2020  22:28:40   27.1        1.1   \n",
       "312717           8176    59446  02/08/2020  22:44:09   33.0        1.0   \n",
       "312718           8176    59446  02/08/2020  23:14:18   20.8        1.1   \n",
       "\n",
       "        HEADWAY     GAP  RHO DIRECTION WEEKDAY  \n",
       "312714   1836.1  1835.9  1.0         E  Sunday  \n",
       "312715    876.0   875.8  1.0         E  Sunday  \n",
       "312716    785.3   785.2  1.0         E  Sunday  \n",
       "312717    928.7   928.6  1.0         E  Sunday  \n",
       "312718   1809.8  1809.7  1.0         E  Sunday  "
      ]
     },
     "execution_count": 11,
     "metadata": {},
     "output_type": "execute_result"
    }
   ],
   "source": [
    "df.tail()"
   ]
  },
  {
   "cell_type": "code",
   "execution_count": 12,
   "metadata": {},
   "outputs": [],
   "source": [
    "# export df as csv\n",
    "df.to_csv('2020.csv', index=False)"
   ]
  },
  {
   "cell_type": "code",
   "execution_count": null,
   "metadata": {},
   "outputs": [],
   "source": []
  }
 ],
 "metadata": {
  "kernelspec": {
   "display_name": "Python 3.9.12 ('base')",
   "language": "python",
   "name": "python3"
  },
  "language_info": {
   "codemirror_mode": {
    "name": "ipython",
    "version": 3
   },
   "file_extension": ".py",
   "mimetype": "text/x-python",
   "name": "python",
   "nbconvert_exporter": "python",
   "pygments_lexer": "ipython3",
   "version": "3.9.12"
  },
  "orig_nbformat": 4,
  "vscode": {
   "interpreter": {
    "hash": "40d3a090f54c6569ab1632332b64b2c03c39dcf918b08424e98f38b5ae0af88f"
   }
  }
 },
 "nbformat": 4,
 "nbformat_minor": 2
}
